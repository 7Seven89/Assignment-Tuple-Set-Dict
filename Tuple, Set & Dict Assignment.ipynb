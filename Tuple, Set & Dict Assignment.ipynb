{
 "cells": [
  {
   "cell_type": "markdown",
   "id": "cf09c878-8179-46a2-ac12-926e23a2fc86",
   "metadata": {},
   "source": [
    "**Q1. What are the characteristics of the tuples? Is tuple immutable?**\n",
    "\n",
    "**A1. Characteristics of Tuples:**\n",
    "- *Immutable:* The values in a Tuple cannot be modified.\n",
    "- *Iterable:* We can iterate over the elements of a Tuple using a loop.\n",
    "- *Heterogeneous:* Different data types can be stored in a tuple, like int, str, etc.\n",
    "- *Nested Tuples:* Tuples can store tuples inside them.\n",
    "- *Ordered:* The order in which the elements are added stays the same.\n",
    "\n",
    "*Tuples are Immutable, which means that if a value is stored in a tuple it can not be modified. Hence tuples are used to store data that should not be modified after their initial assignment.*"
   ]
  },
  {
   "cell_type": "markdown",
   "id": "8dffa0fd-e195-45c2-bc57-04d2bc3168fd",
   "metadata": {},
   "source": [
    "**Q2. What are the two tuple methods in python? Give an example of each method. Give a reason why\n",
    "tuples have only two in-built methods as compared to Lists.**\n",
    "\n",
    "**A2 .The two tuple methods in Python are:**\n",
    "\n",
    "1. **count() method:**\n",
    "   - This is used to count the number of occurrences of a value in a tuple.\n",
    "     ```python\n",
    "     tuple_1 = (1, 2, 2, 2, 3, 4, 5)\n",
    "     tuple_1.count(2)\n",
    "     ```\n",
    "     Output: 3\n",
    "\n",
    "2. **index() method:**\n",
    "   - This is used to find the index of a specific element.\n",
    "     ```python\n",
    "     tuple_2 = (1, 2, 3, 4, 5)\n",
    "     tuple_2.index(2)\n",
    "     ```\n",
    "     Output: 1\n",
    "\n",
    "The reason tuples only have two functions is because they are immutable. There is no need for any other methods as the values cannot be modified after creation."
   ]
  },
  {
   "cell_type": "markdown",
   "id": "501bb02d-b723-4b72-8d76-d4691310b857",
   "metadata": {},
   "source": [
    "**Q3. Which collection datatypes in python do not allow duplicate items? Write a code using a set to remove\n",
    "duplicates from the given list.**\n",
    "\n",
    "*A3. The collection data type that do not allow duplicate items is 'set'. They are unordered and unique collection of elements.*"
   ]
  },
  {
   "cell_type": "code",
   "execution_count": 3,
   "id": "b329a00b-a14e-49cd-9f16-b53aedc88aa3",
   "metadata": {},
   "outputs": [
    {
     "name": "stdout",
     "output_type": "stream",
     "text": [
      "[1, 2, 3, 4]\n"
     ]
    }
   ],
   "source": [
    "# A3. Code using a set to remove duplicates.\n",
    "\n",
    "List = [1, 1, 1, 2, 1, 3, 1, 4, 2, 1, 2, 2, 2, 3, 2, 4, 3, 1, 3, 2, 3, 3, 3, 4, 4, 1, 4, 2, 4, 3, 4, 4]\n",
    "\n",
    "list_to_set = set(List)\n",
    "\n",
    "no_dupli_list = list(list_to_set)\n",
    "\n",
    "print(no_dupli_list)"
   ]
  },
  {
   "cell_type": "markdown",
   "id": "48cbe597-deb1-456d-96b1-adb20bf66a99",
   "metadata": {},
   "source": [
    "**Q4. Explain the difference between the union() and update() methods for a set. Give an example of\n",
    "each method.**\n",
    "\n",
    "**A4.** \n",
    "- Union() Method:\n",
    "  It is used to return a new set containing elements for both the sets.\n",
    "\n",
    "- Update() Method:\n",
    "  This is an in-place operation, it modifies the original set. It is used to add new elements to a set."
   ]
  },
  {
   "cell_type": "code",
   "execution_count": 10,
   "id": "a04af703-5ca4-46e6-ab65-22f9e2bce31e",
   "metadata": {},
   "outputs": [
    {
     "name": "stdout",
     "output_type": "stream",
     "text": [
      "{1, 2, 3, 4, 5}\n",
      "{1, 2, 3, 4, 5}\n"
     ]
    }
   ],
   "source": [
    "# Examples of union() and update() methods:\n",
    "\n",
    "set1_un = {1, 2, 3}\n",
    "set2_un = {3, 4, 5}\n",
    "union_set = set1_u.union(set2_u)\n",
    "\n",
    "set1_up = {1, 2, 3}\n",
    "set2_up = {3, 4, 5}\n",
    "set1_up.update(set2_up)\n",
    "\n",
    "print(union_set)\n",
    "print(set1_up)"
   ]
  },
  {
   "cell_type": "markdown",
   "id": "26e46f87-2ca7-4910-a7cf-aa62f8395e0a",
   "metadata": {},
   "source": [
    "**Q5. What is a dictionary? Give an example. Also, state whether a dictionary is ordered or unordered.**\n",
    "\n",
    "A5. A dictionary is a collection of key-value pairs where each key is unique. A dictionary is unordered, which means that order of the elements is not guaranteed.\n",
    "\n",
    "i.e. my_dict = {\"name\": \"John\", \"age\": 25, \"gender\": \"Male\"}"
   ]
  },
  {
   "cell_type": "markdown",
   "id": "55c933a4-0544-4203-ac97-435d4ba18a5e",
   "metadata": {},
   "source": [
    "**Q6. Can we create a nested dictionary? If so, please give an example by creating a simple one-level\n",
    "nested dictionary.**\n",
    "\n",
    "A6. Yes, we can create a nested dictionary in python. A nested dictionary is dictionary within a dictionary.\n",
    "\n",
    "i.e. student = {\n",
    "    \"name\": \"John\",\n",
    "    \"age\": 20,\n",
    "    \"grades\": {\n",
    "        \"math\": 90,\n",
    "        \"english\": 85,\n",
    "        \"history\": 88\n",
    "    }\n",
    "}"
   ]
  },
  {
   "cell_type": "markdown",
   "id": "695e6647-b5de-4494-8355-56a4188f07cf",
   "metadata": {},
   "source": [
    "**Q7. Using setdefault() method, create key named topics in the given dictionary and also add the value of\n",
    "the key as this list ['Python', 'Machine Learning’, 'Deep Learning']\n",
    "dict1 = {'language' : 'Python', 'course': 'Data Science Masters'}**"
   ]
  },
  {
   "cell_type": "code",
   "execution_count": 15,
   "id": "840909cb-4adf-40d0-ba84-2f4f7979df64",
   "metadata": {},
   "outputs": [
    {
     "name": "stdout",
     "output_type": "stream",
     "text": [
      "{'language': 'Python', 'course': 'Data Science Masters', 'topics': ['Python', 'Machine Learning', 'Deep Learning']}\n"
     ]
    }
   ],
   "source": [
    "# A7. \n",
    "\n",
    "dict1 = {'language' : 'Python', 'course': 'Data Science Masters'}\n",
    "topics_list = ['Python', 'Machine Learning', 'Deep Learning']\n",
    "\n",
    "dict1.setdefault(\"topics\", topics_list)\n",
    "print(dict1)"
   ]
  },
  {
   "cell_type": "markdown",
   "id": "72c75e11-03ac-4d35-8a40-077e2f519b47",
   "metadata": {},
   "source": [
    "**Q8. What are the three view objects in dictionaries? Use the three in-built methods in python to display\n",
    "these three view objects for the given dictionary.**\n",
    "\n",
    "**A8. Three view objects are:**\n",
    "1. *dict_keys*: To view all the keys in a dictionary.\n",
    "2. *dict_values*: To view all the values in a dictionary.\n",
    "3. *dict_items*: To view all the key-value pairs in a dictionary."
   ]
  },
  {
   "cell_type": "code",
   "execution_count": 21,
   "id": "00f9b524-b661-47c4-8ba3-d35452e10692",
   "metadata": {},
   "outputs": [
    {
     "name": "stdout",
     "output_type": "stream",
     "text": [
      "dict_keys(['Sport', 'Teams'])\n",
      "dict_values(['Cricket', ['India', 'Australia', 'England', 'South Africa', 'Sri Lanka', 'New Zealand']])\n",
      "dict_items([('Sport', 'Cricket'), ('Teams', ['India', 'Australia', 'England', 'South Africa', 'Sri Lanka', 'New Zealand'])])\n"
     ]
    }
   ],
   "source": [
    "# A8.\n",
    "dict1 = {'Sport': 'Cricket' , 'Teams': ['India', 'Australia', 'England', 'South Africa', 'Sri Lanka', 'New Zealand']}\n",
    "\n",
    "print(dict1.keys())\n",
    "print(dict1.values())\n",
    "print(dict1.items())"
   ]
  },
  {
   "cell_type": "code",
   "execution_count": null,
   "id": "89a1067f-d229-4a91-991a-e93ca826478c",
   "metadata": {},
   "outputs": [],
   "source": []
  },
  {
   "cell_type": "code",
   "execution_count": null,
   "id": "d55e211c-12ae-4cad-8005-c9159f27ddcf",
   "metadata": {},
   "outputs": [],
   "source": []
  }
 ],
 "metadata": {
  "kernelspec": {
   "display_name": "Python 3 (ipykernel)",
   "language": "python",
   "name": "python3"
  },
  "language_info": {
   "codemirror_mode": {
    "name": "ipython",
    "version": 3
   },
   "file_extension": ".py",
   "mimetype": "text/x-python",
   "name": "python",
   "nbconvert_exporter": "python",
   "pygments_lexer": "ipython3",
   "version": "3.12.2"
  }
 },
 "nbformat": 4,
 "nbformat_minor": 5
}
